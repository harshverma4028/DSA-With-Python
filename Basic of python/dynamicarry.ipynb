{
 "cells": [
  {
   "cell_type": "code",
   "execution_count": null,
   "metadata": {},
   "outputs": [],
   "source": [
    "import ctypes\n",
    "class MeraList:\n",
    "\n",
    "  def __init__(self):\n",
    "    self.size=1\n",
    "    self.n=0\n",
    "    # creating  a C type array with size = self.size\n",
    "    self.A = self.__make_array(self.size)\n",
    "\n",
    "  def __len__(self):\n",
    "    return self.n \n",
    "  \n",
    "  def __str__(self):\n",
    "    result=''\n",
    "    for i in range(self.n):\n",
    "      result = result + str(self.A[i]) + ' ,'\n",
    "    return '['+ result[:-1] + ']'\n",
    "  \n",
    "  def __getitem__(self,index):\n",
    "    if 0<= index < self.n:\n",
    "      return self.A[index]\n",
    "    else:\n",
    "      return 'IndexEror - Index out of range'\n",
    "    \n",
    "  def remove(self,item):\n",
    "    pos = self.find(item)\n",
    "\n",
    "    if type(pos) == int:\n",
    "      self.__delitem__(pos) \n",
    "    else:\n",
    "      return pos\n",
    "    \n",
    "  def __delitem__(self,pos):\n",
    "    # delete the element at position pos\n",
    "    if 0<= pos < self.n:\n",
    "      for i in range(pos,self.n-1):\n",
    "       self.A[i] = self.A[i+1]\n",
    "    \n",
    "      self.n = self.n-1\n",
    "      \n",
    "     \n",
    "   \n",
    "  def append(self,item):\n",
    "    if self.n== self.size:\n",
    "      #Resize\n",
    "      self.__resize(self.size*2)\n",
    "\n",
    "    #append\n",
    "    self.A[self.n] = item\n",
    "    self.n = self.n+1\n",
    "\n",
    "  def pop(self):\n",
    "     if self.n ==0:\n",
    "       return 'Empty list'\n",
    "     else:\n",
    "       print(self.A[self.n-1])\n",
    "       self.n = self.n-1\n",
    "\n",
    "  def clear(self):\n",
    "     self.n=0\n",
    "     self.size=1\n",
    "\n",
    "  def find(self,item):\n",
    "    for i in range(self.n):\n",
    "      if self.A[i] == item:\n",
    "        return i  \n",
    "    return 'Value Error - Item not found'  \n",
    "  \n",
    "  def insert(self,pos,item):\n",
    "    if self.n == self.size:\n",
    "      self.__resize(self.size*2)\n",
    "    \n",
    "    for i in range(self.n,pos,-1):\n",
    "      self.A[i] = self.A[i-1]\n",
    "    \n",
    "    self.A[pos] = item\n",
    "    self.n = self.n+1\n",
    "\n",
    " \n",
    "  def __resize(self,new_capacity):\n",
    "    #create new array with new capacity\n",
    "    B = self.__make_array(new_capacity)\n",
    "    self.size = new_capacity\n",
    "    #copy all elements from A to B\n",
    "    for k in range(self.n):\n",
    "      B[k] = self.A[k]\n",
    "    # reassign A to B\n",
    "    # A is now pointing to B\n",
    "    self.A = B   \n",
    "  \n",
    "\n",
    "\n",
    "  def __make_array(self,capacity):\n",
    "    #create a C type array(static, referenttial) with size capacity\n",
    "    return(capacity*ctypes.py_object)()\n",
    "  \n",
    "\n",
    "                                         # HW \n",
    "  # sorting                                        \n",
    "  def sort(self):\n",
    "    for i in range(self.n):\n",
    "      for j in range(i+1,self.n):\n",
    "        if self.A[i] > self.A[j]:\n",
    "          self.A[i],self.A[j] = self.A[j],self.A[i]\n",
    "        \n",
    "  def max(self):\n",
    "    max = self.A[0]\n",
    "    # if self.n[0] == 0:\n",
    "    #   return 'Empty list'\n",
    "    # else:\n",
    "    for i in range(self.n):\n",
    "      if self.A[i]>max:\n",
    "        max = self.A[i]\n",
    "    return max\n",
    "\n",
    "# min\n",
    "\n",
    "  def min(self):\n",
    "    min =self.A[0]\n",
    "    for i in range(self.n):\n",
    "      if self.A[i]<min:\n",
    "       min = self.A[i]  \n",
    "    return min\n",
    "\n",
    "# slicing\n",
    "  def slice(self, start, end):\n",
    "    if start < 0 or end > self.n or start > end:\n",
    "      return 'IndexError - Invalid slice indices'\n",
    "    \n",
    "    sliced_list = MeraList()\n",
    "    for i in range(start, end):\n",
    "      sliced_list.append(self.A[i])\n",
    "    \n",
    "    return sliced_list"
   ]
  },
  {
   "cell_type": "code",
   "execution_count": 59,
   "metadata": {},
   "outputs": [],
   "source": [
    "L=MeraList()"
   ]
  },
  {
   "cell_type": "code",
   "execution_count": 60,
   "metadata": {},
   "outputs": [],
   "source": [
    "L.append(5)\n",
    "L.append(34)\n",
    "L.append(8)\n",
    "L.append(100)"
   ]
  },
  {
   "cell_type": "code",
   "execution_count": 23,
   "metadata": {},
   "outputs": [
    {
     "name": "stdout",
     "output_type": "stream",
     "text": [
      "[5 ,8 ,34 ,100 ]\n"
     ]
    }
   ],
   "source": [
    "L.sort()\n",
    "print(L)"
   ]
  },
  {
   "cell_type": "code",
   "execution_count": 11,
   "metadata": {},
   "outputs": [
    {
     "data": {
      "text/plain": [
       "'Value Error - Item not found'"
      ]
     },
     "execution_count": 11,
     "metadata": {},
     "output_type": "execute_result"
    }
   ],
   "source": [
    "L.remove('Hello')"
   ]
  },
  {
   "cell_type": "code",
   "execution_count": 5,
   "metadata": {},
   "outputs": [],
   "source": [
    "del L[200]"
   ]
  },
  {
   "cell_type": "code",
   "execution_count": 6,
   "metadata": {},
   "outputs": [],
   "source": [
    "L.insert(2,200)\n"
   ]
  },
  {
   "cell_type": "code",
   "execution_count": 28,
   "metadata": {},
   "outputs": [
    {
     "name": "stdout",
     "output_type": "stream",
     "text": [
      "[5 ,34 ,8 ,100 ]\n"
     ]
    }
   ],
   "source": [
    "print(L)"
   ]
  },
  {
   "cell_type": "code",
   "execution_count": 44,
   "metadata": {},
   "outputs": [
    {
     "data": {
      "text/plain": [
       "100"
      ]
     },
     "execution_count": 44,
     "metadata": {},
     "output_type": "execute_result"
    }
   ],
   "source": [
    "L.max()\n",
    "# L.min()"
   ]
  },
  {
   "cell_type": "code",
   "execution_count": 64,
   "metadata": {},
   "outputs": [
    {
     "name": "stdout",
     "output_type": "stream",
     "text": [
      "[8 ]\n"
     ]
    }
   ],
   "source": [
    "print(L.slice(2,3))"
   ]
  },
  {
   "cell_type": "code",
   "execution_count": null,
   "metadata": {},
   "outputs": [],
   "source": []
  }
 ],
 "metadata": {
  "kernelspec": {
   "display_name": "Python 3",
   "language": "python",
   "name": "python3"
  },
  "language_info": {
   "codemirror_mode": {
    "name": "ipython",
    "version": 3
   },
   "file_extension": ".py",
   "mimetype": "text/x-python",
   "name": "python",
   "nbconvert_exporter": "python",
   "pygments_lexer": "ipython3",
   "version": "3.11.1"
  }
 },
 "nbformat": 4,
 "nbformat_minor": 2
}
