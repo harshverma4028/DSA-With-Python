{
 "cells": [
  {
   "cell_type": "code",
   "execution_count": null,
   "metadata": {},
   "outputs": [],
   "source": [
    "import ctypes\n",
    "class MeraList:\n",
    "\n",
    "  def __init__(self):\n",
    "    self.size=1\n",
    "    self.n=0\n",
    "    # creating  a C type array with size = self.size\n",
    "    self.A = self.__make_array(self.size)\n",
    "\n",
    "  def __len__(self):\n",
    "    return self.n \n",
    "  \n",
    "  def __str__(self):\n",
    "    result=''\n",
    "    for i in range(self.n):\n",
    "      result = result + str(self.A[i]) + ' ,'\n",
    "    return result\n",
    "  \n",
    "  def append(self,item):\n",
    "    if self.n== self.size:\n",
    "      #Resize\n",
    "      self.__resize(self.size*2)\n",
    "\n",
    "    #append\n",
    "    self.A[self.n] = item\n",
    "    self.n = self.n+1\n",
    "    \n",
    " \n",
    "  def __resize(self,new_capacity):\n",
    "    #create new array with new capacity\n",
    "    B = self.__make_array(new_capacity)\n",
    "    self.size = new_capacity\n",
    "    #copy all elements from A to B\n",
    "    for k in range(self.n):\n",
    "      B[k] = self.A[k]\n",
    "    # reassign A to B\n",
    "    # A is now pointing to B\n",
    "    self.A = B   \n",
    "\n",
    "\n",
    "\n",
    "  def __make_array(self,capacity):\n",
    "    #create a C type array(static, referenttial) with size capacity\n",
    "    return(capacity*ctypes.py_object)()\n"
   ]
  },
  {
   "cell_type": "code",
   "execution_count": 56,
   "metadata": {},
   "outputs": [],
   "source": [
    "L=MeraList()"
   ]
  },
  {
   "cell_type": "code",
   "execution_count": 57,
   "metadata": {},
   "outputs": [],
   "source": [
    "L.append(\"Hello\")\n",
    "L.append(3.4)\n",
    "L.append(True)\n",
    "L.append(100)"
   ]
  },
  {
   "cell_type": "code",
   "execution_count": 58,
   "metadata": {},
   "outputs": [
    {
     "name": "stdout",
     "output_type": "stream",
     "text": [
      "Hello,3.4,True,100,\n"
     ]
    }
   ],
   "source": [
    "print(L)"
   ]
  },
  {
   "cell_type": "code",
   "execution_count": null,
   "metadata": {},
   "outputs": [],
   "source": []
  },
  {
   "cell_type": "code",
   "execution_count": null,
   "metadata": {},
   "outputs": [],
   "source": []
  }
 ],
 "metadata": {
  "kernelspec": {
   "display_name": "Python 3",
   "language": "python",
   "name": "python3"
  },
  "language_info": {
   "codemirror_mode": {
    "name": "ipython",
    "version": 3
   },
   "file_extension": ".py",
   "mimetype": "text/x-python",
   "name": "python",
   "nbconvert_exporter": "python",
   "pygments_lexer": "ipython3",
   "version": "3.11.1"
  }
 },
 "nbformat": 4,
 "nbformat_minor": 2
}
