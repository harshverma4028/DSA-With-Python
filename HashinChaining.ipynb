{
 "cells": [
  {
   "cell_type": "code",
   "execution_count": 14,
   "metadata": {},
   "outputs": [],
   "source": [
    "class Node:\n",
    "    def __init__(self,key,value):\n",
    "        self.key = key\n",
    "        self.value = value\n",
    "        self.next = None"
   ]
  },
  {
   "cell_type": "code",
   "execution_count": 30,
   "metadata": {},
   "outputs": [],
   "source": [
    "class LL:\n",
    "\n",
    "    def __init__(self):\n",
    "        #Creating Empty List\n",
    "        self.head = None\n",
    "        #No of nodes in the LL\n",
    "        self.n = 0\n",
    "\n",
    "    def add(self,key,value):\n",
    "        new_node = Node(key,value)\n",
    "\n",
    "        if self.head == None:\n",
    "          self.head = new_node\n",
    "        else:\n",
    "            temp = self.head\n",
    "        \n",
    "\n",
    "        while temp.next != None:\n",
    "            temp = temp.next\n",
    "\n",
    "        # You are at the last node\n",
    "        temp.next = new_node\n",
    "\n",
    "                      # Deleting Items\n",
    "  \n",
    "    \n",
    "    def remove(self,key):\n",
    "        if self.head.key == key:\n",
    "            self.delete_head()\n",
    "            return\n",
    "        # If there is only one element in the LL\n",
    "        if self.head == None:\n",
    "            return 'Empty'\n",
    "        else:\n",
    "           temp = self.head\n",
    "\n",
    "           while temp.next != None:\n",
    "               if temp.next.key == key:\n",
    "                   break\n",
    "               temp = temp.next    \n",
    "        if temp.next == None:\n",
    "            return 'Not found'\n",
    "        else:\n",
    "           temp.next = temp.next.next\n",
    "    \n",
    "\n",
    "    def traverse(self):\n",
    "        temp = self.head\n",
    "\n",
    "        while temp != None:\n",
    "            print(temp.key,\"-->\",temp.value,\" \",end=\" \")\n",
    "            temp = temp.next\n",
    "                            # search\n",
    "    def search(self,key):\n",
    "        curr  = self.head\n",
    "        pos =0\n",
    "\n",
    "        while curr != None:\n",
    "            if curr.key == key:\n",
    "                return pos\n",
    "            \n",
    "            curr = curr.next\n",
    "            pos += 1\n",
    "        return -1    \n",
    "    def get_node_at_index(self,index):\n",
    "\n",
    "        temp = self.head\n",
    "        counter = 0\n",
    "\n",
    "        while temp is not None:\n",
    "            if counter == index:\n",
    "                return temp\n",
    "            temp = temp.next\n",
    "            counter += 1\n",
    "   \n",
    "# L=LinkedList()        "
   ]
  },
  {
   "cell_type": "code",
   "execution_count": null,
   "metadata": {},
   "outputs": [],
   "source": [
    "class Dictonary:\n",
    "    def __init__(self, capacity):\n",
    "        \n",
    "        self.capacity = capacity\n",
    "        self.size = 0\n",
    "        # create array of LL\n",
    "        self.buckets = self.make_array(self.capacity)\n",
    "\n",
    "    def make_array(self,capacity):\n",
    "      L = []\n",
    "\n",
    "      for i in range(capacity):\n",
    "         L.append(LL())\n",
    "      return L          \n",
    "    \n",
    "    def put(self, key , value):\n",
    "       bucket_index = hash_function(key)\n",
    "       node_index = get_node_index(bucket_index ,key)\n",
    "       if node_index == -1:\n",
    "        # Inserrt\n",
    "        self.buckets[bucket_index].add(key,value)\n",
    "       else:\n",
    "          #update\n",
    "          node = self.buckets[bucket_index].get_node_at_index(node_index)\n",
    "          node.value = value\n",
    "    def get_node_index(bucket_index,key):\n",
    "      node_index = self.buckets[bucket_index].search(key)\n",
    "      return node_index\n",
    "    def hash_function(self,key):\n",
    "       return abs(hash(key)) % self.capacity"
   ]
  },
  {
   "cell_type": "code",
   "execution_count": 17,
   "metadata": {},
   "outputs": [],
   "source": [
    "L = LL()"
   ]
  },
  {
   "cell_type": "code",
   "execution_count": 20,
   "metadata": {},
   "outputs": [],
   "source": [
    "L.add(2,3)"
   ]
  },
  {
   "cell_type": "code",
   "execution_count": 21,
   "metadata": {},
   "outputs": [],
   "source": [
    "L.add(4,5)"
   ]
  },
  {
   "cell_type": "code",
   "execution_count": 22,
   "metadata": {},
   "outputs": [],
   "source": [
    "L.add(6,7)"
   ]
  },
  {
   "cell_type": "code",
   "execution_count": 23,
   "metadata": {},
   "outputs": [
    {
     "name": "stdout",
     "output_type": "stream",
     "text": [
      "2 --> 3   2 --> 3   4 --> 5   6 --> 7   "
     ]
    }
   ],
   "source": [
    "L.traverse()"
   ]
  },
  {
   "cell_type": "code",
   "execution_count": 28,
   "metadata": {},
   "outputs": [
    {
     "data": {
      "text/plain": [
       "4"
      ]
     },
     "execution_count": 28,
     "metadata": {},
     "output_type": "execute_result"
    }
   ],
   "source": [
    "L.get_node_at_index(2).key"
   ]
  },
  {
   "cell_type": "code",
   "execution_count": null,
   "metadata": {},
   "outputs": [],
   "source": []
  }
 ],
 "metadata": {
  "kernelspec": {
   "display_name": "Python 3",
   "language": "python",
   "name": "python3"
  },
  "language_info": {
   "codemirror_mode": {
    "name": "ipython",
    "version": 3
   },
   "file_extension": ".py",
   "mimetype": "text/x-python",
   "name": "python",
   "nbconvert_exporter": "python",
   "pygments_lexer": "ipython3",
   "version": "3.11.1"
  }
 },
 "nbformat": 4,
 "nbformat_minor": 2
}
