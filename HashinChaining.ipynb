{
 "cells": [
  {
   "cell_type": "code",
   "execution_count": 113,
   "metadata": {},
   "outputs": [],
   "source": [
    "class Node:\n",
    "    def __init__(self,key,value):\n",
    "        self.key = key\n",
    "        self.value = value\n",
    "        self.next = None"
   ]
  },
  {
   "cell_type": "code",
   "execution_count": 115,
   "metadata": {},
   "outputs": [],
   "source": [
    "class LL:\n",
    "\n",
    "    def __init__(self):\n",
    "        #Creating Empty List\n",
    "        self.head = None\n",
    "        #No of nodes in the LL\n",
    "        self.n = 0\n",
    "\n",
    "    def add(self, key, value):\n",
    "\n",
    "        new_node = Node(key, value)\n",
    "\n",
    "\n",
    "        if self.head is None:\n",
    "\n",
    "            # If the list is empty, set the new node as the head\n",
    "\n",
    "            self.head = new_node\n",
    "\n",
    "        else:\n",
    "\n",
    "            # Traverse to the end of the list\n",
    "\n",
    "            current_node = self.head\n",
    "\n",
    "            while current_node.next is not None:\n",
    "\n",
    "                current_node = current_node.next\n",
    "\n",
    "            \n",
    "\n",
    "            # Add the new node at the end\n",
    "\n",
    "            current_node.next = new_node\n",
    "                      # Deleting Items\n",
    "  \n",
    "    \n",
    "    def remove(self,key):\n",
    "        if self.head.key == key:\n",
    "            self.delete_head()\n",
    "            return\n",
    "        # If there is only one element in the LL\n",
    "        if self.head == None:\n",
    "            return 'Empty'\n",
    "        else:\n",
    "           temp = self.head\n",
    "\n",
    "           while temp.next != None:\n",
    "               if temp.next.key == key:\n",
    "                   break\n",
    "               temp = temp.next    \n",
    "        if temp.next == None:\n",
    "            return 'Not found'\n",
    "        else:\n",
    "           temp.next = temp.next.next\n",
    "    \n",
    "\n",
    "    def traverse(self):\n",
    "        temp = self.head\n",
    "\n",
    "        while temp != None:\n",
    "            print(temp.key,\"-->\",temp.value,\" \",end=\" \")\n",
    "            temp = temp.next\n",
    "\n",
    "    def size(self):\n",
    "        temp = self.head\n",
    "        counter = 0\n",
    "\n",
    "        while temp != None:\n",
    "            temp = temp.next\n",
    "            counter += 1  \n",
    "\n",
    "        return counter        \n",
    "                            # search\n",
    "    def search(self,key):\n",
    "        curr  = self.head\n",
    "        pos =0\n",
    "\n",
    "        while curr != None:\n",
    "            if curr.key == key:\n",
    "                return pos\n",
    "            \n",
    "            curr = curr.next\n",
    "            pos += 1\n",
    "        return -1    \n",
    "    def get_node_at_index(self,index):\n",
    "\n",
    "        temp = self.head\n",
    "        counter = 0\n",
    "\n",
    "        while temp is not None:\n",
    "            if counter == index:\n",
    "                return temp\n",
    "            temp = temp.next\n",
    "            counter += 1\n",
    "        return counter"
   ]
  },
  {
   "cell_type": "code",
   "execution_count": 116,
   "metadata": {},
   "outputs": [],
   "source": [
    "class Dictonary:\n",
    "    def __init__(self,capacity):\n",
    "        \n",
    "        self.capacity = capacity\n",
    "        self.size = 0\n",
    "        # create array of LL\n",
    "        self.buckets = self.make_array(self.capacity)\n",
    "\n",
    "    def make_array(self,capacity):\n",
    "      L = []\n",
    "\n",
    "      for i in range(capacity):\n",
    "         L.append(LL())\n",
    "      return L          \n",
    "    \n",
    "    def put(self, key , value):\n",
    "       bucket_index = self.hash_function(key)\n",
    "       node_index = self.get_node_index(bucket_index,key)\n",
    "       if node_index == -1:\n",
    "        # Inserrt\n",
    "        self.buckets[bucket_index].add(key,value)\n",
    "        self.size +=1\n",
    "        \n",
    "        load_factor = self.size/self.capacity\n",
    "        print(load_factor)\n",
    "        if (load_factor >= 2):\n",
    "           self.rehash()\n",
    "           \n",
    "       else:\n",
    "          #update\n",
    "          node = self.buckets[bucket_index].get_node_at_index(node_index)\n",
    "          node.value = value\n",
    "    def  rehash(self):\n",
    "       self.capacity = self.capacity *2\n",
    "       old_buckets = self.buckets\n",
    "       self.size = 0\n",
    "       self.buckets = self.make_array(self.capacity)\n",
    "   \n",
    "       for i in old_buckets:\n",
    "          for j in range(i.size()):\n",
    "             node = i.get_node_at_index(j)\n",
    "             key_item = node.key \n",
    "             value_item = node.value\n",
    "             self.put(key_item,value_item)  \n",
    "\n",
    "    def get_node_index(self,bucket_index,key):\n",
    "      node_index = self.buckets[bucket_index].search(key)\n",
    "      return node_index\n",
    "    def hash_function(self,key):\n",
    "       return abs(hash(key)) % self.capacity"
   ]
  },
  {
   "cell_type": "code",
   "execution_count": 82,
   "metadata": {},
   "outputs": [],
   "source": [
    "L = LL()"
   ]
  },
  {
   "cell_type": "code",
   "execution_count": 20,
   "metadata": {},
   "outputs": [],
   "source": [
    "L.add(2,3)"
   ]
  },
  {
   "cell_type": "code",
   "execution_count": 21,
   "metadata": {},
   "outputs": [],
   "source": [
    "L.add(4,5)"
   ]
  },
  {
   "cell_type": "code",
   "execution_count": 22,
   "metadata": {},
   "outputs": [],
   "source": [
    "L.add(6,7)"
   ]
  },
  {
   "cell_type": "code",
   "execution_count": 23,
   "metadata": {},
   "outputs": [
    {
     "name": "stdout",
     "output_type": "stream",
     "text": [
      "2 --> 3   2 --> 3   4 --> 5   6 --> 7   "
     ]
    }
   ],
   "source": [
    "L.traverse()"
   ]
  },
  {
   "cell_type": "code",
   "execution_count": 84,
   "metadata": {},
   "outputs": [
    {
     "ename": "AttributeError",
     "evalue": "'int' object has no attribute 'key'",
     "output_type": "error",
     "traceback": [
      "\u001b[1;31m---------------------------------------------------------------------------\u001b[0m",
      "\u001b[1;31mAttributeError\u001b[0m                            Traceback (most recent call last)",
      "Cell \u001b[1;32mIn[84], line 1\u001b[0m\n\u001b[1;32m----> 1\u001b[0m \u001b[43mL\u001b[49m\u001b[38;5;241;43m.\u001b[39;49m\u001b[43mget_node_at_index\u001b[49m\u001b[43m(\u001b[49m\u001b[38;5;241;43m2\u001b[39;49m\u001b[43m)\u001b[49m\u001b[38;5;241;43m.\u001b[39;49m\u001b[43mkey\u001b[49m\n",
      "\u001b[1;31mAttributeError\u001b[0m: 'int' object has no attribute 'key'"
     ]
    }
   ],
   "source": [
    "L.get_node_at_index(2).key"
   ]
  },
  {
   "cell_type": "code",
   "execution_count": 117,
   "metadata": {},
   "outputs": [],
   "source": [
    "D1 = Dictonary(2)"
   ]
  },
  {
   "cell_type": "code",
   "execution_count": 120,
   "metadata": {},
   "outputs": [
    {
     "name": "stdout",
     "output_type": "stream",
     "text": [
      "1.0\n"
     ]
    }
   ],
   "source": [
    "D1.put(\"ruby2\",10000)"
   ]
  },
  {
   "cell_type": "code",
   "execution_count": 106,
   "metadata": {},
   "outputs": [
    {
     "data": {
      "text/plain": [
       "[<__main__.LL at 0x217e8019590>, <__main__.LL at 0x217e7fd46d0>]"
      ]
     },
     "execution_count": 106,
     "metadata": {},
     "output_type": "execute_result"
    }
   ],
   "source": [
    "D1.buckets"
   ]
  },
  {
   "cell_type": "code",
   "execution_count": 99,
   "metadata": {},
   "outputs": [
    {
     "name": "stdout",
     "output_type": "stream",
     "text": [
      "ruby --> 10000   "
     ]
    }
   ],
   "source": [
    "D1.buckets[0].traverse()"
   ]
  },
  {
   "cell_type": "code",
   "execution_count": 89,
   "metadata": {},
   "outputs": [],
   "source": [
    "D1 = Dictonary(4)"
   ]
  },
  {
   "cell_type": "code",
   "execution_count": null,
   "metadata": {},
   "outputs": [],
   "source": []
  }
 ],
 "metadata": {
  "kernelspec": {
   "display_name": "Python 3",
   "language": "python",
   "name": "python3"
  },
  "language_info": {
   "codemirror_mode": {
    "name": "ipython",
    "version": 3
   },
   "file_extension": ".py",
   "mimetype": "text/x-python",
   "name": "python",
   "nbconvert_exporter": "python",
   "pygments_lexer": "ipython3",
   "version": "3.11.1"
  }
 },
 "nbformat": 4,
 "nbformat_minor": 2
}
