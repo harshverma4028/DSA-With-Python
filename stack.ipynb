{
 "cells": [
  {
   "cell_type": "code",
   "execution_count": 81,
   "metadata": {},
   "outputs": [],
   "source": [
    "class Node:\n",
    "    def __init__(self,value):\n",
    "        self.data = value\n",
    "        self.next = None\n",
    "\n",
    "\n",
    "\n",
    "class Stack:\n",
    "    def __init__(self):\n",
    "         self.top = None\n",
    "\n",
    "    def isempty(self):\n",
    "        return self.top == None  \n",
    "      \n",
    "    def push(self,value):\n",
    "        new_node = Node(value)\n",
    "        new_node.next = self.top\n",
    "        self.top = new_node\n",
    "\n",
    "    def peek(self):\n",
    "        if(self.isempty()):\n",
    "            return ' Empty Stack'\n",
    "        else:\n",
    "            return self.top.data\n",
    "    def traverse(self):\n",
    "        temp = self.top\n",
    "        count = 0\n",
    "\n",
    "        while temp != None:\n",
    "            print(temp.data)\n",
    "            temp = temp.next\n",
    "            count = count +1\n",
    "        print(\"the total number of item is \",count)    \n",
    "    def pop(self):\n",
    "        if (self.isempty()):\n",
    "            return 'Empty stack'\n",
    "        else:\n",
    "            data =self.top.data\n",
    "            self.top = self.top.next\n",
    "            return data\n",
    "    def size(self):\n",
    "        temp = self.top\n",
    "        count = 0\n",
    "        if temp== None:\n",
    "            count = 0\n",
    "        else:\n",
    "            while  temp.next != None:\n",
    "             count = count + 1\n",
    "             temp = temp.next\n",
    "        return count            \n",
    "# s = Stack()     "
   ]
  },
  {
   "cell_type": "code",
   "execution_count": 37,
   "metadata": {},
   "outputs": [],
   "source": [
    "def reverse_string(text):\n",
    "    s= Stack()\n",
    "\n",
    "    for i in text:\n",
    "        s.push(i)\n",
    "\n",
    "    res =\" \"\n",
    "\n",
    "    while (not s.isempty()):\n",
    "        res = res + s.pop()\n",
    "    print(res)    \n"
   ]
  },
  {
   "cell_type": "code",
   "execution_count": 69,
   "metadata": {},
   "outputs": [],
   "source": [
    "def text_editor(text,pattern):\n",
    "    u = Stack()\n",
    "    r = Stack()\n",
    "\n",
    "    for i in text:\n",
    "        u.push(i)\n",
    "\n",
    "    for i in pattern:\n",
    "        if i == 'u':\n",
    "            data = u.pop()\n",
    "            r.push(data)\n",
    "        else:\n",
    "            data = r.pop()\n",
    "            u.push(data)    \n",
    "\n",
    "    res = \" \"\n",
    "\n",
    "    while( not u.isempty()):\n",
    "        res =u.pop() + res \n",
    "    print(res)           "
   ]
  },
  {
   "cell_type": "code",
   "execution_count": 93,
   "metadata": {},
   "outputs": [],
   "source": [
    "L = [\n",
    "    [0,0,1,1],\n",
    "    [0,0,1,0],\n",
    "    [0,0,1,0],\n",
    "    [0,0,1,0]\n",
    "]"
   ]
  },
  {
   "cell_type": "code",
   "execution_count": 83,
   "metadata": {},
   "outputs": [],
   "source": [
    "def find_the_celeb(L):\n",
    "\n",
    "    s = Stack()\n",
    "\n",
    "    for i in range (len(L)):\n",
    "        s.push(i)\n",
    "\n",
    "    while s.size() >= 2:\n",
    "\n",
    "        i = s.pop()\n",
    "        j = s.pop()\n",
    "\n",
    "        if L[i][j] ==0:\n",
    "            # j is not celebrity\n",
    "            s.push(i)\n",
    "        else:\n",
    "            # i is not celeb\n",
    "            s.push(j)\n",
    "\n",
    "    celeb = s.pop()\n",
    "\n",
    "    for i in range(len(L)):\n",
    "\n",
    "        if i != celeb:\n",
    "            if L[i][celeb] == 0 or L[celeb][i] == 1:\n",
    "                print(\"No one is  celeberity\")\n",
    "                return            \n",
    "\n",
    "    print(\"The celebrity is\",celeb)        \n"
   ]
  },
  {
   "cell_type": "code",
   "execution_count": 4,
   "metadata": {},
   "outputs": [],
   "source": [
    "L = [1,2,3,4,5,6]"
   ]
  },
  {
   "cell_type": "code",
   "execution_count": null,
   "metadata": {},
   "outputs": [
    {
     "data": {
      "text/plain": [
       "6"
      ]
     },
     "execution_count": 6,
     "metadata": {},
     "output_type": "execute_result"
    }
   ],
   "source": []
  },
  {
   "cell_type": "code",
   "execution_count": null,
   "metadata": {},
   "outputs": [],
   "source": []
  },
  {
   "cell_type": "code",
   "execution_count": 58,
   "metadata": {},
   "outputs": [
    {
     "name": "stdout",
     "output_type": "stream",
     "text": [
      "Ha \n"
     ]
    }
   ],
   "source": [
    "text_editor(\"Harsh\",\"uurruuu\")"
   ]
  },
  {
   "cell_type": "code",
   "execution_count": 39,
   "metadata": {},
   "outputs": [
    {
     "data": {
      "text/plain": [
       "True"
      ]
     },
     "execution_count": 39,
     "metadata": {},
     "output_type": "execute_result"
    }
   ],
   "source": [
    "s.isempty()"
   ]
  },
  {
   "cell_type": "code",
   "execution_count": 26,
   "metadata": {},
   "outputs": [
    {
     "name": "stdout",
     "output_type": "stream",
     "text": [
      "4\n",
      "3\n",
      "2\n",
      "the total number of item is  3\n"
     ]
    }
   ],
   "source": [
    "s.traverse()"
   ]
  },
  {
   "cell_type": "code",
   "execution_count": 25,
   "metadata": {},
   "outputs": [],
   "source": [
    "s.push(2)\n",
    "s.push(3)\n",
    "s.push(4)"
   ]
  },
  {
   "cell_type": "code",
   "execution_count": 21,
   "metadata": {},
   "outputs": [
    {
     "data": {
      "text/plain": [
       "'Empty stack'"
      ]
     },
     "execution_count": 21,
     "metadata": {},
     "output_type": "execute_result"
    }
   ],
   "source": [
    "s.pop()"
   ]
  }
 ],
 "metadata": {
  "kernelspec": {
   "display_name": "Python 3",
   "language": "python",
   "name": "python3"
  },
  "language_info": {
   "codemirror_mode": {
    "name": "ipython",
    "version": 3
   },
   "file_extension": ".py",
   "mimetype": "text/x-python",
   "name": "python",
   "nbconvert_exporter": "python",
   "pygments_lexer": "ipython3",
   "version": "3.11.1"
  }
 },
 "nbformat": 4,
 "nbformat_minor": 2
}
