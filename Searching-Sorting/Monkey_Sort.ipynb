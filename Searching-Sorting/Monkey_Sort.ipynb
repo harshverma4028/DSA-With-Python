{
 "cells": [
  {
   "cell_type": "code",
   "execution_count": 5,
   "metadata": {},
   "outputs": [
    {
     "data": {
      "text/plain": [
       "[4, 3, 1, 5, 2, 6]"
      ]
     },
     "execution_count": 5,
     "metadata": {},
     "output_type": "execute_result"
    }
   ],
   "source": [
    "import random\n",
    "import time\n",
    "\n",
    "a= [1,2,3,4,5,6]\n",
    "random.shuffle(a)\n",
    "a"
   ]
  },
  {
   "cell_type": "code",
   "execution_count": 35,
   "metadata": {},
   "outputs": [],
   "source": [
    "def is_sorted(arr):\n",
    "    sorted = True\n",
    "    for i in range(len(arr)-1):\n",
    "        if arr[i] > arr[i+1]:\n",
    "            sorted = False                   \n",
    "    return sorted  "
   ]
  },
  {
   "cell_type": "code",
   "execution_count": 39,
   "metadata": {},
   "outputs": [],
   "source": [
    "def monkey_sort(arr):\n",
    "    while not  is_sorted(arr):\n",
    "            time.sleep(1)\n",
    "            random.shuffle(arr)\n",
    "            print(arr)\n",
    "    print(arr)        "
   ]
  },
  {
   "cell_type": "code",
   "execution_count": 40,
   "metadata": {},
   "outputs": [
    {
     "name": "stdout",
     "output_type": "stream",
     "text": [
      "[112, 12, 32, 53]\n",
      "[32, 12, 112, 53]\n",
      "[112, 32, 53, 12]\n",
      "[53, 12, 112, 32]\n",
      "[12, 53, 32, 112]\n",
      "[32, 53, 112, 12]\n",
      "[112, 32, 53, 12]\n",
      "[53, 12, 112, 32]\n",
      "[32, 12, 53, 112]\n",
      "[32, 53, 112, 12]\n",
      "[53, 112, 12, 32]\n",
      "[12, 32, 112, 53]\n",
      "[112, 53, 12, 32]\n",
      "[12, 32, 53, 112]\n",
      "[12, 32, 53, 112]\n"
     ]
    }
   ],
   "source": [
    "arr = [112,32,53,12]\n",
    "monkey_sort(arr)"
   ]
  }
 ],
 "metadata": {
  "kernelspec": {
   "display_name": "Python 3",
   "language": "python",
   "name": "python3"
  },
  "language_info": {
   "codemirror_mode": {
    "name": "ipython",
    "version": 3
   },
   "file_extension": ".py",
   "mimetype": "text/x-python",
   "name": "python",
   "nbconvert_exporter": "python",
   "pygments_lexer": "ipython3",
   "version": "3.11.1"
  }
 },
 "nbformat": 4,
 "nbformat_minor": 2
}
