{
 "cells": [
  {
   "cell_type": "code",
   "execution_count": 5,
   "metadata": {},
   "outputs": [],
   "source": [
    "# Binary Search\n",
    "# Sorted Array\n",
    "\n",
    "def binary_search(arr, low, high, item):\n",
    "    \n",
    "    print(\"low= \",low,\"high =\",high,end=' ')\n",
    "\n",
    "    if low <= high:\n",
    "        #continue Searching\n",
    "        mid =(low + high) //2\n",
    "\n",
    "        print(\"mid value is \", arr[mid])\n",
    "\n",
    "        if arr[mid] == item:\n",
    "            return mid\n",
    "        elif arr[mid] > item:\n",
    "            return binary_search(arr, low , mid-1, item)\n",
    "        else:\n",
    "             return binary_search(arr,mid+1, high, item)         \n",
    "\n",
    "    else:\n",
    "        return -1    "
   ]
  },
  {
   "cell_type": "code",
   "execution_count": 7,
   "metadata": {},
   "outputs": [
    {
     "name": "stdout",
     "output_type": "stream",
     "text": [
      "low=  0 high = 8 mid value is  57\n",
      "low=  5 high = 8 mid value is  80\n",
      "low=  7 high = 8 mid value is  99\n",
      "low=  8 high = 8 mid value is  100\n",
      "low=  9 high = 8 -1\n"
     ]
    }
   ],
   "source": [
    "arr = [12,24,35,46,57,68,80,99,100]\n",
    "print(binary_search(arr,0,len(arr)-1,1000))"
   ]
  },
  {
   "cell_type": "code",
   "execution_count": null,
   "metadata": {},
   "outputs": [],
   "source": []
  }
 ],
 "metadata": {
  "kernelspec": {
   "display_name": "Python 3",
   "language": "python",
   "name": "python3"
  },
  "language_info": {
   "codemirror_mode": {
    "name": "ipython",
    "version": 3
   },
   "file_extension": ".py",
   "mimetype": "text/x-python",
   "name": "python",
   "nbconvert_exporter": "python",
   "pygments_lexer": "ipython3",
   "version": "3.11.1"
  }
 },
 "nbformat": 4,
 "nbformat_minor": 2
}
