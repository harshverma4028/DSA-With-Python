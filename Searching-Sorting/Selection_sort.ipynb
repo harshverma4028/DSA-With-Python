{
 "cells": [
  {
   "cell_type": "code",
   "execution_count": 10,
   "metadata": {},
   "outputs": [],
   "source": [
    "def selection_sort(arr):\n",
    "\n",
    "    for i in range(len(arr)-1):\n",
    "        \n",
    "        # print(i+1,\"pass\",end=\" \")\n",
    "\n",
    "        min = i\n",
    "\n",
    "        # print(\"Current min is\",arr[min])\n",
    "\n",
    "        for j in range(i+1,len(arr)):\n",
    "            # print(\"Current item under observaion\", arr[j])\n",
    "            if arr[j] < arr[min]:\n",
    "                # print(\"Current item is less than min\")\n",
    "                min = j\n",
    "                # print(\"Now the min has become \",arr[min])\n",
    "\n",
    "        arr[i],arr[min] = arr[min],arr[i]\n",
    "        # print(arr)\n",
    "        # print(\"*\"*50)\n",
    "    print(arr)            "
   ]
  },
  {
   "cell_type": "code",
   "execution_count": 11,
   "metadata": {},
   "outputs": [
    {
     "name": "stdout",
     "output_type": "stream",
     "text": [
      "[13, 20, 21, 23, 32, 43, 53]\n"
     ]
    }
   ],
   "source": [
    "arr = [21,20,32,13,43,23,53]\n",
    "selection_sort(arr)"
   ]
  },
  {
   "cell_type": "markdown",
   "metadata": {},
   "source": []
  },
  {
   "cell_type": "markdown",
   "metadata": {},
   "source": [
    "Space Complexity - order(1)\n",
    "Time Complexity - 0(n^2)\n",
    "Not Adaptive\n",
    "Not Stable"
   ]
  },
  {
   "cell_type": "code",
   "execution_count": null,
   "metadata": {},
   "outputs": [],
   "source": []
  },
  {
   "cell_type": "code",
   "execution_count": null,
   "metadata": {},
   "outputs": [],
   "source": []
  },
  {
   "cell_type": "code",
   "execution_count": null,
   "metadata": {},
   "outputs": [],
   "source": []
  }
 ],
 "metadata": {
  "kernelspec": {
   "display_name": "Python 3",
   "language": "python",
   "name": "python3"
  },
  "language_info": {
   "codemirror_mode": {
    "name": "ipython",
    "version": 3
   },
   "file_extension": ".py",
   "mimetype": "text/x-python",
   "name": "python",
   "nbconvert_exporter": "python",
   "pygments_lexer": "ipython3",
   "version": "3.11.1"
  }
 },
 "nbformat": 4,
 "nbformat_minor": 2
}
