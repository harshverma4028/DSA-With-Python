{
 "cells": [
  {
   "cell_type": "code",
   "execution_count": 32,
   "metadata": {},
   "outputs": [],
   "source": [
    "class Dictionary:\n",
    "    def __init__(self,size):\n",
    "        self.size = size\n",
    "        self.slots = [None] * self.size\n",
    "        self.data = [None] * self.size\n",
    "\n",
    "    def put(self,key,value):\n",
    "        hash_value = self.hash_function(key)\n",
    "\n",
    "        if self.slots[hash_value] == None:\n",
    "            self.slots[hash_value] = key\n",
    "            self.data[hash_value] = value\n",
    "\n",
    "        else:\n",
    "            if self.slots[hash_value] == key:\n",
    "                self.data[hash_value] = value\n",
    "            else:\n",
    "                new_hash_value = self.rehash(hash_value)\n",
    "\n",
    "                while self.slots[new_hash_value] != None and self.slots[new_hash_value] != key:\n",
    "                    new_hash_value = self.rehash(new_hash_value)\n",
    "\n",
    "                if self.slots[new_hash_value] == None:\n",
    "                    self.slots[new_hash_value] = key\n",
    "                    self.data[new_hash_value] = value\n",
    "                else:\n",
    "                    self.data[new_hash_value] = value \n",
    "\n",
    "    def __setitem__(self,key,value):\n",
    "        self.put(key,value)                \n",
    "\n",
    "    def rehash(self,old_hash):\n",
    "        return (old_hash + 1) % self.size\n",
    "\n",
    "    def hash_function(self,key):\n",
    "\n",
    "        return abs(hash(key)) % self.size   "
   ]
  },
  {
   "cell_type": "code",
   "execution_count": 33,
   "metadata": {},
   "outputs": [],
   "source": [
    "D1 = Dictionary(3)"
   ]
  },
  {
   "cell_type": "code",
   "execution_count": 41,
   "metadata": {},
   "outputs": [
    {
     "name": "stdout",
     "output_type": "stream",
     "text": [
      "['java', 'php', 'p']\n",
      "[450, 410, 2206]\n"
     ]
    }
   ],
   "source": [
    "print(D1.slots)\n",
    "print(D1.data)"
   ]
  },
  {
   "cell_type": "code",
   "execution_count": 38,
   "metadata": {},
   "outputs": [],
   "source": [
    "D1.put(\"java\",450)"
   ]
  },
  {
   "cell_type": "code",
   "execution_count": 36,
   "metadata": {},
   "outputs": [],
   "source": [
    "D1.put(\"p\",2206)"
   ]
  },
  {
   "cell_type": "code",
   "execution_count": 35,
   "metadata": {},
   "outputs": [],
   "source": [
    "D1.put(\"php\",409)"
   ]
  },
  {
   "cell_type": "code",
   "execution_count": 40,
   "metadata": {},
   "outputs": [],
   "source": [
    "D1['php']= 410"
   ]
  },
  {
   "cell_type": "code",
   "execution_count": null,
   "metadata": {},
   "outputs": [],
   "source": []
  }
 ],
 "metadata": {
  "kernelspec": {
   "display_name": "Python 3",
   "language": "python",
   "name": "python3"
  },
  "language_info": {
   "codemirror_mode": {
    "name": "ipython",
    "version": 3
   },
   "file_extension": ".py",
   "mimetype": "text/x-python",
   "name": "python",
   "nbconvert_exporter": "python",
   "pygments_lexer": "ipython3",
   "version": "3.11.1"
  }
 },
 "nbformat": 4,
 "nbformat_minor": 2
}
