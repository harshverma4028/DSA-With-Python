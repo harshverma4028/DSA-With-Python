{
 "cells": [
  {
   "cell_type": "code",
   "execution_count": 33,
   "metadata": {},
   "outputs": [],
   "source": [
    "class Node:\n",
    "    def __init__(self,value):\n",
    "        self.data = value\n",
    "        self.next =  None  \n",
    "\n",
    "\n"
   ]
  },
  {
   "cell_type": "code",
   "execution_count": 34,
   "metadata": {},
   "outputs": [],
   "source": [
    "a = Node(1)\n",
    "b = Node(2)\n",
    "c = Node(3)"
   ]
  },
  {
   "cell_type": "code",
   "execution_count": 35,
   "metadata": {},
   "outputs": [
    {
     "name": "stdout",
     "output_type": "stream",
     "text": [
      "3\n"
     ]
    }
   ],
   "source": [
    "print(c.data)"
   ]
  },
  {
   "cell_type": "code",
   "execution_count": 36,
   "metadata": {},
   "outputs": [],
   "source": [
    "a.next =b\n",
    "b.next =c"
   ]
  },
  {
   "cell_type": "code",
   "execution_count": 37,
   "metadata": {},
   "outputs": [
    {
     "name": "stdout",
     "output_type": "stream",
     "text": [
      "<__main__.Node object at 0x000002497E0F0190>\n"
     ]
    }
   ],
   "source": [
    "print(a.next)"
   ]
  },
  {
   "cell_type": "code",
   "execution_count": 38,
   "metadata": {},
   "outputs": [
    {
     "data": {
      "text/plain": [
       "2442689755792"
      ]
     },
     "execution_count": 38,
     "metadata": {},
     "output_type": "execute_result"
    }
   ],
   "source": [
    "int(0x00000238BBA7BA90)"
   ]
  },
  {
   "cell_type": "code",
   "execution_count": 1,
   "metadata": {},
   "outputs": [],
   "source": [
    "class Node:\n",
    "    def __init__(self,value):\n",
    "        self.data = value\n",
    "        self.next =  None  \n",
    "\n",
    "\n"
   ]
  },
  {
   "cell_type": "code",
   "execution_count": null,
   "metadata": {},
   "outputs": [],
   "source": [
    "class LinkedList:\n",
    "\n",
    "    def __init__(self):\n",
    "        #Creating Empty List\n",
    "        self.head = None\n",
    "        #No of nodes in the LL\n",
    "        self.n = 0\n",
    "\n",
    "    def __len__(self):\n",
    "        return self.n \n",
    "\n",
    "    def insert_head(self,value):\n",
    "\n",
    "        # New node\n",
    "        new_node = Node(value)\n",
    "\n",
    "        # Create connection \n",
    "        new_node.next = self.head\n",
    "\n",
    "        # Assign head\n",
    "        self.head = new_node\n",
    "\n",
    "        # increment n\n",
    "        self.n = self.n+1\n",
    "    # traverse and print the linked list\n",
    "    def __str__(self):\n",
    "        curr = self.head\n",
    "\n",
    "        result =''\n",
    "\n",
    "        while curr != None:\n",
    "            result = result + str(curr.data) + '->'\n",
    "            curr = curr.next\n",
    "\n",
    "        return result[:-2]\n",
    "    # append\n",
    "    def append(self,value):\n",
    "        new_node = Node(value)\n",
    "\n",
    "        if self.head == None:\n",
    "          # empty \n",
    "          self.head = new_node\n",
    "          self.n = self.n + 1\n",
    "        return\n",
    "        \n",
    "        curr = self.head\n",
    "\n",
    "        while curr.next != None:\n",
    "            curr = curr.next\n",
    "\n",
    "        # You are at the last node\n",
    "        curr.next = new_node\n",
    "        self.n =  self.n + 1\n",
    "\n",
    "    # Insert in middle \n",
    "    def insert_after(self,after,value):\n",
    "        new_node = Node(value)\n",
    "\n",
    "        curr = self.head\n",
    "\n",
    "        while curr != None:\n",
    "            if curr.data == after:\n",
    "                break\n",
    "            curr = curr.next\n",
    "\n",
    "        # case 1 break -> we got item -> curr -> not noe\n",
    "        if curr != None:\n",
    "        #logic \n",
    "          new_node.next = curr.next\n",
    "          curr.next = new_node\n",
    "          self.n = self.n + 1\n",
    "        else:\n",
    "          return 'Item not found'   \n",
    "         # case 2 loop executed fully -> item not found -> curr -> None \n",
    "\n",
    "\n",
    "                      # Deleting Items\n",
    "    def clear(self):\n",
    "        self.head = None\n",
    "        self.n = 0\n",
    "\n",
    "    def delete_head(self):\n",
    "        if self.head == None:\n",
    "            return 'Emtpy L list'\n",
    "        self.head = self.head.next\n",
    "        self.n = self.n - 1\n",
    "\n",
    "    def pop(self):\n",
    "        # already empty\n",
    "        if self.head == None:\n",
    "            return 'The LL is empty'\n",
    "        curr = self.head\n",
    "        \n",
    "        if curr.next == None:\n",
    "            return self.delete_head()\n",
    "        \n",
    "        while curr.next.next != None:\n",
    "            curr = curr.next \n",
    "\n",
    "        # curr   -> 2nd last node\n",
    "        curr.next = None\n",
    "        self.n = self.n - 1      \n",
    "    \n",
    "    def remove(self,value):\n",
    "        if self.head == None:\n",
    "            return 'No data is remaining in the linked list'\n",
    "        # If there is only one element in the LL\n",
    "        if self.head.data == value:\n",
    "            return self.delete_head()\n",
    "\n",
    "\n",
    "        curr = self.head\n",
    "\n",
    "        while curr.next != None:\n",
    "            if curr.next.data == value:\n",
    "                break\n",
    "            curr = curr.next   \n",
    "\n",
    "        # 2 case  got item\n",
    "        # item not got    \n",
    "\n",
    "        if curr.next == None:\n",
    "            return 'Not found'\n",
    "        else:\n",
    "            curr.next = curr.next.next\n",
    "    \n",
    "                            # search\n",
    "    def search(self,value):\n",
    "        curr  = self.head\n",
    "        pos =0\n",
    "\n",
    "        while curr != None:\n",
    "            if curr.data == value:\n",
    "                return pos\n",
    "            \n",
    "            curr = curr.next\n",
    "            pos = pos+1\n",
    "        return ' Not found'    \n",
    "    \n",
    "    def __getitem__(self,index):\n",
    "\n",
    "        curr = self.head\n",
    "        pos = 0\n",
    "\n",
    "        while curr != None:\n",
    "            if pos == index:\n",
    "                return curr.data\n",
    "            curr = curr.next\n",
    "            pos = pos + 1\n",
    "        return ' Index Error'\n",
    "\n"
   ]
  },
  {
   "cell_type": "code",
   "execution_count": 4,
   "metadata": {},
   "outputs": [],
   "source": [
    "L=LinkedList()"
   ]
  },
  {
   "cell_type": "markdown",
   "metadata": {},
   "source": []
  },
  {
   "cell_type": "code",
   "execution_count": 5,
   "metadata": {},
   "outputs": [],
   "source": [
    "L.insert_head(1)\n",
    "L.insert_head(2)\n",
    "L.insert_head(3)\n",
    "L.insert_head(4)\n"
   ]
  },
  {
   "cell_type": "code",
   "execution_count": 43,
   "metadata": {},
   "outputs": [
    {
     "name": "stdout",
     "output_type": "stream",
     "text": [
      "4->3->2->1\n"
     ]
    }
   ],
   "source": [
    "print(L)"
   ]
  },
  {
   "cell_type": "code",
   "execution_count": 7,
   "metadata": {},
   "outputs": [
    {
     "data": {
      "text/plain": [
       "4"
      ]
     },
     "execution_count": 7,
     "metadata": {},
     "output_type": "execute_result"
    }
   ],
   "source": [
    "L[0]"
   ]
  },
  {
   "cell_type": "code",
   "execution_count": 45,
   "metadata": {},
   "outputs": [
    {
     "data": {
      "text/plain": [
       "'Item not found'"
      ]
     },
     "execution_count": 45,
     "metadata": {},
     "output_type": "execute_result"
    }
   ],
   "source": [
    "L.insert_after(6,200)"
   ]
  },
  {
   "cell_type": "code",
   "execution_count": 46,
   "metadata": {},
   "outputs": [],
   "source": [
    "L.clear()"
   ]
  },
  {
   "cell_type": "code",
   "execution_count": 47,
   "metadata": {},
   "outputs": [
    {
     "data": {
      "text/plain": [
       "'Emtpy L list'"
      ]
     },
     "execution_count": 47,
     "metadata": {},
     "output_type": "execute_result"
    }
   ],
   "source": [
    "L.delete_head()\n"
   ]
  },
  {
   "cell_type": "code",
   "execution_count": 48,
   "metadata": {},
   "outputs": [
    {
     "data": {
      "text/plain": [
       "' Not found'"
      ]
     },
     "execution_count": 48,
     "metadata": {},
     "output_type": "execute_result"
    }
   ],
   "source": [
    "L.search(24)"
   ]
  },
  {
   "cell_type": "code",
   "execution_count": null,
   "metadata": {},
   "outputs": [],
   "source": []
  }
 ],
 "metadata": {
  "kernelspec": {
   "display_name": "Python 3",
   "language": "python",
   "name": "python3"
  },
  "language_info": {
   "codemirror_mode": {
    "name": "ipython",
    "version": 3
   },
   "file_extension": ".py",
   "mimetype": "text/x-python",
   "name": "python",
   "nbconvert_exporter": "python",
   "pygments_lexer": "ipython3",
   "version": "3.11.1"
  }
 },
 "nbformat": 4,
 "nbformat_minor": 2
}
