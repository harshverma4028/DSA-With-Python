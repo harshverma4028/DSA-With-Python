{
 "cells": [
  {
   "cell_type": "code",
   "execution_count": 92,
   "metadata": {},
   "outputs": [],
   "source": [
    "class Node:\n",
    "    def __init__(self,value):\n",
    "        self.data = value\n",
    "        self.next =  None  \n",
    "\n",
    "\n"
   ]
  },
  {
   "cell_type": "code",
   "execution_count": 93,
   "metadata": {},
   "outputs": [],
   "source": [
    "a = Node(1)\n",
    "b = Node(2)\n",
    "c = Node(3)"
   ]
  },
  {
   "cell_type": "code",
   "execution_count": 94,
   "metadata": {},
   "outputs": [
    {
     "name": "stdout",
     "output_type": "stream",
     "text": [
      "3\n"
     ]
    }
   ],
   "source": [
    "print(c.data)"
   ]
  },
  {
   "cell_type": "code",
   "execution_count": 95,
   "metadata": {},
   "outputs": [],
   "source": [
    "a.next =b\n",
    "b.next =c"
   ]
  },
  {
   "cell_type": "code",
   "execution_count": 96,
   "metadata": {},
   "outputs": [
    {
     "name": "stdout",
     "output_type": "stream",
     "text": [
      "<__main__.Node object at 0x00000223DACEDB50>\n"
     ]
    }
   ],
   "source": [
    "print(a.next)"
   ]
  },
  {
   "cell_type": "code",
   "execution_count": 97,
   "metadata": {},
   "outputs": [
    {
     "data": {
      "text/plain": [
       "2442689755792"
      ]
     },
     "execution_count": 97,
     "metadata": {},
     "output_type": "execute_result"
    }
   ],
   "source": [
    "int(0x00000238BBA7BA90)"
   ]
  },
  {
   "cell_type": "code",
   "execution_count": 98,
   "metadata": {},
   "outputs": [],
   "source": [
    "class Node:\n",
    "    def __init__(self,value):\n",
    "        self.data = value\n",
    "        self.next =  None  \n",
    "\n",
    "\n"
   ]
  },
  {
   "cell_type": "code",
   "execution_count": 121,
   "metadata": {},
   "outputs": [],
   "source": [
    "class LinkedList:\n",
    "\n",
    "    def __init__(self):\n",
    "        #Creating Empty List\n",
    "        self.head = None\n",
    "        #No of nodes in the LL\n",
    "        self.n = 0\n",
    "\n",
    "    def __len__(self):\n",
    "        return self.n \n",
    "\n",
    "    def insert_head(self,value):\n",
    "\n",
    "        # New node\n",
    "        new_node = Node(value)\n",
    "\n",
    "        # Create connection \n",
    "        new_node.next = self.head\n",
    "\n",
    "        # Assign head\n",
    "        self.head = new_node\n",
    "\n",
    "        # increment n\n",
    "        self.n = self.n+1\n",
    "    # traverse and print the linked list\n",
    "    def __str__(self):\n",
    "        curr = self.head\n",
    "\n",
    "        result =''\n",
    "\n",
    "        while curr != None:\n",
    "            result = result + str(curr.data) + '->'\n",
    "            curr = curr.next\n",
    "\n",
    "        return result[:-2]\n",
    "    # append\n",
    "    def append(self,value):\n",
    "        new_node = Node(value)\n",
    "\n",
    "        if self.head == None:\n",
    "          # empty \n",
    "          self.head = new_node\n",
    "          self.n = self.n + 1\n",
    "        return\n",
    "        \n",
    "        curr = self.head\n",
    "\n",
    "        while curr.next != None:\n",
    "            curr = curr.next\n",
    "\n",
    "        # You are at the last node\n",
    "        curr.next = new_node\n",
    "        self.n =  self.n + 1"
   ]
  },
  {
   "cell_type": "code",
   "execution_count": 122,
   "metadata": {},
   "outputs": [],
   "source": [
    "L=LinkedList()"
   ]
  },
  {
   "cell_type": "code",
   "execution_count": 114,
   "metadata": {},
   "outputs": [],
   "source": [
    "L.insert_head(1)\n",
    "L.insert_head(2)\n",
    "L.insert_head(3)\n",
    "L.insert_head(4)\n"
   ]
  },
  {
   "cell_type": "code",
   "execution_count": 125,
   "metadata": {},
   "outputs": [
    {
     "name": "stdout",
     "output_type": "stream",
     "text": [
      "6\n"
     ]
    }
   ],
   "source": [
    "print(L)"
   ]
  },
  {
   "cell_type": "code",
   "execution_count": 124,
   "metadata": {},
   "outputs": [],
   "source": [
    "L.append(6)"
   ]
  },
  {
   "cell_type": "code",
   "execution_count": null,
   "metadata": {},
   "outputs": [],
   "source": []
  }
 ],
 "metadata": {
  "kernelspec": {
   "display_name": "Python 3",
   "language": "python",
   "name": "python3"
  },
  "language_info": {
   "codemirror_mode": {
    "name": "ipython",
    "version": 3
   },
   "file_extension": ".py",
   "mimetype": "text/x-python",
   "name": "python",
   "nbconvert_exporter": "python",
   "pygments_lexer": "ipython3",
   "version": "3.11.1"
  }
 },
 "nbformat": 4,
 "nbformat_minor": 2
}
