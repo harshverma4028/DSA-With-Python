{
 "cells": [
  {
   "cell_type": "code",
   "execution_count": 3,
   "metadata": {},
   "outputs": [],
   "source": [
    "class Node:\n",
    "    def __init__(self,value):\n",
    "        self.data = value\n",
    "        self.next = None\n",
    "    "
   ]
  },
  {
   "cell_type": "code",
   "execution_count": 92,
   "metadata": {},
   "outputs": [],
   "source": [
    "class Queue:\n",
    "    \n",
    "    def __init__(self):\n",
    "        self.front = None\n",
    "        self.rear = None\n",
    "\n",
    "    def enqueue(self,value):\n",
    "\n",
    "        new_node = Node(value)\n",
    "\n",
    "        if self.rear == None:\n",
    "            self.rear = new_node\n",
    "            self.front = new_node\n",
    "        else:\n",
    "            self.rear.next = new_node\n",
    "            self.rear = new_node\n",
    "\n",
    "\n",
    "    def dequeue(self):\n",
    "\n",
    "        if self.front == None:\n",
    "            return 'Empty Queue'\n",
    "        else:\n",
    "            self.front = self.front.next\n",
    "    \n",
    "    def is_empty(self):\n",
    "        return self.front == None\n",
    "    \n",
    "    def size(self):\n",
    "        count = 0\n",
    "        temp = self.front\n",
    "        while temp != None:\n",
    "            temp = temp.next\n",
    "            count =count + 1\n",
    "        return count\n",
    "    def traverse(self):\n",
    "        temp = self.front\n",
    "\n",
    "        while temp != None:\n",
    "            print(temp.data,end=' ')\n",
    "            temp = temp.next \n",
    "\n",
    "\n",
    "    def front_item(self):\n",
    "        if self.front == None:\n",
    "            return 'Empty stack'\n",
    "        else:\n",
    "            data = self.front.data\n",
    "        return data  \n",
    "\n",
    "    def rear_item(self):\n",
    "        if self.rear == None:\n",
    "            return 'Empty stack'\n",
    "        else:\n",
    "            return self.rear.data                           "
   ]
  },
  {
   "cell_type": "code",
   "execution_count": 103,
   "metadata": {},
   "outputs": [],
   "source": [
    "q = Queue()"
   ]
  },
  {
   "cell_type": "code",
   "execution_count": 99,
   "metadata": {},
   "outputs": [],
   "source": [
    "q.enqueue(4)\n",
    "q.enqueue(5)\n",
    "q.enqueue(6)"
   ]
  },
  {
   "cell_type": "code",
   "execution_count": 104,
   "metadata": {},
   "outputs": [
    {
     "data": {
      "text/plain": [
       "'Empty stack'"
      ]
     },
     "execution_count": 104,
     "metadata": {},
     "output_type": "execute_result"
    }
   ],
   "source": [
    "q.rear_item()"
   ]
  },
  {
   "cell_type": "code",
   "execution_count": 102,
   "metadata": {},
   "outputs": [
    {
     "name": "stdout",
     "output_type": "stream",
     "text": [
      "4 5 6 4 5 6 4 5 6 "
     ]
    }
   ],
   "source": [
    "q.traverse()   "
   ]
  },
  {
   "cell_type": "code",
   "execution_count": 101,
   "metadata": {},
   "outputs": [
    {
     "data": {
      "text/plain": [
       "False"
      ]
     },
     "execution_count": 101,
     "metadata": {},
     "output_type": "execute_result"
    }
   ],
   "source": [
    "q.is_empty()"
   ]
  },
  {
   "cell_type": "code",
   "execution_count": 89,
   "metadata": {},
   "outputs": [],
   "source": [
    "q.dequeue()"
   ]
  },
  {
   "cell_type": "code",
   "execution_count": null,
   "metadata": {},
   "outputs": [],
   "source": []
  }
 ],
 "metadata": {
  "kernelspec": {
   "display_name": "Python 3",
   "language": "python",
   "name": "python3"
  },
  "language_info": {
   "codemirror_mode": {
    "name": "ipython",
    "version": 3
   },
   "file_extension": ".py",
   "mimetype": "text/x-python",
   "name": "python",
   "nbconvert_exporter": "python",
   "pygments_lexer": "ipython3",
   "version": "3.11.1"
  }
 },
 "nbformat": 4,
 "nbformat_minor": 2
}
